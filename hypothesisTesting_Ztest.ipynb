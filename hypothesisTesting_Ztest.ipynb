{
 "cells": [
  {
   "cell_type": "code",
   "execution_count": 1,
   "id": "04ae7e02-713b-4b8a-9108-00a1d359f599",
   "metadata": {},
   "outputs": [],
   "source": [
    "# we use the z test if we have folloiwng conditions:\n",
    "# 1)mean of population\n",
    "# 2)standard devaition of population\n",
    "# 3)sample size greater than 30"
   ]
  },
  {
   "cell_type": "code",
   "execution_count": 2,
   "id": "051c96d3-e216-4afd-b74b-2093034f0850",
   "metadata": {},
   "outputs": [],
   "source": [
    "import scipy.stats as st\n",
    "import numpy as np"
   ]
  },
  {
   "cell_type": "code",
   "execution_count": 3,
   "id": "2fb32609-4897-4b25-b3f1-7031654d6a81",
   "metadata": {},
   "outputs": [],
   "source": [
    "#for alpha in range 0.01 to 0.05 we find the value of zt (z-testing value)"
   ]
  },
  {
   "cell_type": "code",
   "execution_count": 4,
   "id": "94240334-63a6-4357-91b5-2d0eb35491b2",
   "metadata": {},
   "outputs": [
    {
     "data": {
      "text/plain": [
       "np.float64(1.6448536269514722)"
      ]
     },
     "execution_count": 4,
     "metadata": {},
     "output_type": "execute_result"
    }
   ],
   "source": [
    "zt = st.norm.ppf(1-0.05) # for alpha = 0.05\n",
    "zt"
   ]
  },
  {
   "cell_type": "code",
   "execution_count": 5,
   "id": "32393be7-cdd4-4ebe-83e4-b659e1ce8230",
   "metadata": {},
   "outputs": [],
   "source": [
    "# zc (z-calculated value to compare) can be found by :\n",
    "#zc = (x - u)/(std/root(n)) , where x = mean of sample , u = mean of population , std = standard deviation of population ,n = smaple size"
   ]
  },
  {
   "cell_type": "code",
   "execution_count": 6,
   "id": "5ed465ea-5012-489d-a00e-4db969d95501",
   "metadata": {},
   "outputs": [],
   "source": [
    "# lets take an example :\n",
    "# a teacher claims that the mean score of students in his class is greater than 82 with a standard deviation of 20.\n",
    "# if a sample space of 81 studets was selected with a mean score of 90 , is the hypothesis correct ?"
   ]
  },
  {
   "cell_type": "code",
   "execution_count": 7,
   "id": "992da38e-6cd1-4c1b-b19e-f5fa6e568563",
   "metadata": {},
   "outputs": [],
   "source": [
    "# from given problem\n",
    "x = 90\n",
    "u = 82\n",
    "std = 20\n",
    "n = 81"
   ]
  },
  {
   "cell_type": "code",
   "execution_count": 8,
   "id": "ed310b26-c6ef-4518-b8d7-42a243dc014c",
   "metadata": {},
   "outputs": [
    {
     "data": {
      "text/plain": [
       "np.float64(3.5999999999999996)"
      ]
     },
     "execution_count": 8,
     "metadata": {},
     "output_type": "execute_result"
    }
   ],
   "source": [
    "#therefore zc will be :\n",
    "zc = (x-u)/(std/np.sqrt(n))\n",
    "zc"
   ]
  },
  {
   "cell_type": "code",
   "execution_count": 9,
   "id": "a865eb23-d8de-4b81-94c2-b0dc837cf416",
   "metadata": {},
   "outputs": [
    {
     "data": {
      "text/plain": [
       "np.float64(1.6448536269514722)"
      ]
     },
     "execution_count": 9,
     "metadata": {},
     "output_type": "execute_result"
    }
   ],
   "source": [
    "#and we have zt for alpha = 0.05\n",
    "zt"
   ]
  },
  {
   "cell_type": "code",
   "execution_count": 10,
   "id": "5cbb5718-cf06-4a09-a150-d4e49ff3f169",
   "metadata": {},
   "outputs": [
    {
     "name": "stdout",
     "output_type": "stream",
     "text": [
      "hypothesis is correct\n"
     ]
    }
   ],
   "source": [
    "if zt < zc :\n",
    "    print(\"hypothesis is correct\")\n",
    "else:\n",
    "    print(\"hypothesis is incorrect\")"
   ]
  },
  {
   "cell_type": "code",
   "execution_count": null,
   "id": "a2352c33-f53d-48bc-a6ec-125d5d00ed7d",
   "metadata": {},
   "outputs": [],
   "source": []
  },
  {
   "cell_type": "code",
   "execution_count": 11,
   "id": "841bd229-a465-485f-a989-58746bd8e7f3",
   "metadata": {},
   "outputs": [],
   "source": [
    "#problem 2:\n",
    "# Q.imagine you work for a e-commerce company, and your team is responsible for analyzing customer purchase data.\n",
    "#   you want to determine whether the new website design has led to a significant increase in the avarege purchase ammount\n",
    "#   compared to the old design \n",
    "# DATA : you have collected data from a random sample of 30 customers who made purchase on the old website\n",
    "#        and 30 from the new website design \n",
    "#        you have sample means, sample standard deviations , and sample sizes for both groups."
   ]
  },
  {
   "cell_type": "code",
   "execution_count": 12,
   "id": "24cba582-b975-4609-a312-d26dde584185",
   "metadata": {},
   "outputs": [],
   "source": [
    "new_design_data = np.array([45.2,42.8,38.9,43.5,41.0,44.6,40.5,42.7,39.8,41.4,44.3,39.7,42.1,40.6,43.0,42.2,41.5,39.6,44.0,43.1,38.7,43.9,42.0,41.9,42.8,43.7,41.3,40.9,42.5,41.6])\n",
    "old_design_data = np.array([48.5,49.1,50.2,47.8,49.9,48.0,50.5,49.8,49.6,48.2,48.9,49.7,50.3,49.4,50.1,48.6,48.3,48.5,49.0,50.0,48.4,49.3,49.5,48.8,50.6,50.4,48.1,49.2,50.7,50.8])\n",
    "\n",
    "sample_size = len(new_design_data)\n",
    "pop_std = 2.5\n"
   ]
  },
  {
   "cell_type": "code",
   "execution_count": 13,
   "id": "aa6c047e-a514-448f-b9ec-ed402cdd78d9",
   "metadata": {},
   "outputs": [
    {
     "data": {
      "text/plain": [
       "(np.float64(41.99333333333333), np.float64(49.339999999999996))"
      ]
     },
     "execution_count": 13,
     "metadata": {},
     "output_type": "execute_result"
    }
   ],
   "source": [
    "#now lets find means\n",
    "mean_new = np.mean(new_design_data)\n",
    "mean_old = np.mean(old_design_data)\n",
    "mean_new , mean_old"
   ]
  },
  {
   "cell_type": "code",
   "execution_count": 14,
   "id": "406b5c0c-ec07-4912-ad4b-964fe567a7df",
   "metadata": {},
   "outputs": [
    {
     "data": {
      "text/plain": [
       "np.float64(-16.095740223218474)"
      ]
     },
     "execution_count": 14,
     "metadata": {},
     "output_type": "execute_result"
    }
   ],
   "source": [
    "#now lets find value of z i.e z_cal here :\n",
    "z_cal = (mean_new - mean_old)/(pop_std/np.sqrt(sample_size))\n",
    "z_cal"
   ]
  },
  {
   "cell_type": "code",
   "execution_count": 15,
   "id": "68875ec2-7908-481e-a163-f9d639c016af",
   "metadata": {},
   "outputs": [
    {
     "name": "stdout",
     "output_type": "stream",
     "text": [
      "hypothesis is incorrect\n"
     ]
    }
   ],
   "source": [
    "if zt < z_cal :\n",
    "    print(\"hypothesis is correct\")\n",
    "else:\n",
    "    print(\"hypothesis is incorrect\")"
   ]
  },
  {
   "cell_type": "code",
   "execution_count": null,
   "id": "e4e6b51d-a0d8-44fb-9879-cbd58e92bbac",
   "metadata": {},
   "outputs": [],
   "source": []
  }
 ],
 "metadata": {
  "kernelspec": {
   "display_name": "Python 3 (ipykernel)",
   "language": "python",
   "name": "python3"
  },
  "language_info": {
   "codemirror_mode": {
    "name": "ipython",
    "version": 3
   },
   "file_extension": ".py",
   "mimetype": "text/x-python",
   "name": "python",
   "nbconvert_exporter": "python",
   "pygments_lexer": "ipython3",
   "version": "3.12.4"
  }
 },
 "nbformat": 4,
 "nbformat_minor": 5
}
