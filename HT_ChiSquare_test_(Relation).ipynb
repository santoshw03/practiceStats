{
 "cells": [
  {
   "cell_type": "code",
   "execution_count": 1,
   "id": "1ddaa7e5-4e70-4572-9801-92b2332167ad",
   "metadata": {},
   "outputs": [],
   "source": [
    "import numpy as np"
   ]
  },
  {
   "cell_type": "code",
   "execution_count": 3,
   "id": "c2504434-0d70-4d37-9c4a-c19b5ecba2f3",
   "metadata": {},
   "outputs": [],
   "source": [
    "# Example 2:\n",
    "#A study was conducted to investigate whether there is a relationship between gender and the preferred genre of music.\n",
    "#A sample of 235 people was selected, and the data collected is shown below.\n",
    "#Test at a 5% level of significance whether there is a significant association between gender and music preference.\n",
    "#-------------------------------------------------|\n",
    "#         Pop || Hip-Hop || Classical ||  Rock    |\n",
    "#-------------------------------------------------|\n",
    "#Male   |  40 ||    45   ||   25      ||  10      |\n",
    "#-------------------------------------------------|\n",
    "#Female |  35 ||   30    ||    20    ||  30       |"
   ]
  },
  {
   "cell_type": "code",
   "execution_count": 4,
   "id": "f94d8fd0-616e-4f28-b1ce-f8faa9590c4f",
   "metadata": {},
   "outputs": [],
   "source": [
    "# lets consider Ho = no relation , Ha = there is relation\n",
    "# now to find chi_square-test value , for some alpha df = (row-1)*(col-1)\n",
    "#from question we have alpha = 0.05 and df = 3\n",
    "chi_test = 7.815 # from chi_square_table"
   ]
  },
  {
   "cell_type": "code",
   "execution_count": 13,
   "id": "eee8e55a-696b-49f7-a2b9-722dc2a07e02",
   "metadata": {},
   "outputs": [],
   "source": [
    "#to find chi_square_calculated value for comparision:\n",
    "# find expected values:\n",
    "# (sum of columni)*(sum of rowi)\n",
    "# -------------------------------          for all columns\n",
    "#        number of sample \n",
    "# then use chi_square formula:\n",
    "# sum(squareof(observation - expectation)/expectation)"
   ]
  },
  {
   "cell_type": "code",
   "execution_count": 6,
   "id": "71ca79d6-c301-4969-bb52-4062b36dc92f",
   "metadata": {},
   "outputs": [],
   "source": [
    "row1 = np.array([40,45,25,10])\n",
    "row2 = np.array([35,30,20,30])"
   ]
  },
  {
   "cell_type": "code",
   "execution_count": 10,
   "id": "1fcdf791-341b-4b88-b85b-9800f743eeb4",
   "metadata": {},
   "outputs": [
    {
     "data": {
      "text/plain": [
       "array([120, 115])"
      ]
     },
     "execution_count": 10,
     "metadata": {},
     "output_type": "execute_result"
    }
   ],
   "source": [
    "sum_r1 = np.sum(row1)\n",
    "sum_r2 = np.sum(row2)\n",
    "sum_rows = np.array([sum_r1 , sum_r2])\n",
    "sum_rows"
   ]
  },
  {
   "cell_type": "code",
   "execution_count": 11,
   "id": "70540f57-4fb4-407f-ba98-ca96cca5a895",
   "metadata": {},
   "outputs": [
    {
     "data": {
      "text/plain": [
       "array([75, 75, 45, 40])"
      ]
     },
     "execution_count": 11,
     "metadata": {},
     "output_type": "execute_result"
    }
   ],
   "source": [
    "#sum of columns will be:\n",
    "sum_cols = row1+row2\n",
    "sum_cols"
   ]
  },
  {
   "cell_type": "code",
   "execution_count": 18,
   "id": "73a1b0d4-dfd3-42b5-88f3-845eb6c2d477",
   "metadata": {},
   "outputs": [
    {
     "data": {
      "text/plain": [
       "[np.float64(38.297872340425535),\n",
       " np.float64(38.297872340425535),\n",
       " np.float64(22.97872340425532),\n",
       " np.float64(20.425531914893618),\n",
       " np.float64(36.702127659574465),\n",
       " np.float64(36.702127659574465),\n",
       " np.float64(22.02127659574468),\n",
       " np.float64(19.574468085106382)]"
      ]
     },
     "execution_count": 18,
     "metadata": {},
     "output_type": "execute_result"
    }
   ],
   "source": [
    "#to get the expected value\n",
    "exp = []\n",
    "for i in sum_rows:\n",
    "    for j in sum_cols:\n",
    "        value = (i*j)/235 ##### 235 is the number of samples\n",
    "        exp.append(value)\n",
    "exp"
   ]
  },
  {
   "cell_type": "code",
   "execution_count": 19,
   "id": "7e7f8b06-bcf7-4da1-9230-b87853818ad2",
   "metadata": {},
   "outputs": [],
   "source": [
    "#observation data:\n",
    "obj = np.array([40,45,25,10,35,30,20,30])"
   ]
  },
  {
   "cell_type": "code",
   "execution_count": 20,
   "id": "48a5f992-58ea-431d-b002-4ad51b328c00",
   "metadata": {},
   "outputs": [
    {
     "data": {
      "text/plain": [
       "np.float64(13.788747987117553)"
      ]
     },
     "execution_count": 20,
     "metadata": {},
     "output_type": "execute_result"
    }
   ],
   "source": [
    "chi_calculated = np.sum(np.square(obj - exp)/exp)\n",
    "chi_calculated"
   ]
  },
  {
   "cell_type": "code",
   "execution_count": 24,
   "id": "3bc94c6c-3b36-4aa1-83d8-a13fed2a4882",
   "metadata": {},
   "outputs": [
    {
     "name": "stdout",
     "output_type": "stream",
     "text": [
      "there is relation hypothesis is correct\n"
     ]
    }
   ],
   "source": [
    "if chi_test < chi_calculated:\n",
    "    print(\"there is relation hypothesis is correct\")\n",
    "else:\n",
    "    print(\" there is no relation hypothesis is incorrect\")"
   ]
  },
  {
   "cell_type": "code",
   "execution_count": null,
   "id": "62aa2108-d8b6-4f95-b00c-fb491b45248d",
   "metadata": {},
   "outputs": [],
   "source": []
  }
 ],
 "metadata": {
  "kernelspec": {
   "display_name": "Python 3 (ipykernel)",
   "language": "python",
   "name": "python3"
  },
  "language_info": {
   "codemirror_mode": {
    "name": "ipython",
    "version": 3
   },
   "file_extension": ".py",
   "mimetype": "text/x-python",
   "name": "python",
   "nbconvert_exporter": "python",
   "pygments_lexer": "ipython3",
   "version": "3.12.4"
  }
 },
 "nbformat": 4,
 "nbformat_minor": 5
}
