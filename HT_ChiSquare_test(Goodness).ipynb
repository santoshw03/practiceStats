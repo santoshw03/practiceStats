{
 "cells": [
  {
   "cell_type": "code",
   "execution_count": 3,
   "id": "78d615bb-827f-4af1-bf31-93f627cd8611",
   "metadata": {},
   "outputs": [],
   "source": [
    "import numpy as np"
   ]
  },
  {
   "cell_type": "code",
   "execution_count": 4,
   "id": "dc4daaf2-32d0-4b24-b955-e0e9be257f51",
   "metadata": {},
   "outputs": [],
   "source": [
    "#A fair die is rolled 120 times and the following results are obtained:\n",
    "#Face 1: 22 times\n",
    "#Face 2: 17 times\n",
    "#Face 3: 20 times\n",
    "#Face 4: 26 times\n",
    "#Face 5: 22 times\n",
    "#Face 6: 13 times\n",
    "#Test at a 5% level of significance whether the die is fair."
   ]
  },
  {
   "cell_type": "code",
   "execution_count": 5,
   "id": "140c52db-597e-4770-b7e6-6563469dff1f",
   "metadata": {},
   "outputs": [],
   "source": [
    "#let Ho = dice is fair , and Ha = dice is not fair"
   ]
  },
  {
   "cell_type": "code",
   "execution_count": 10,
   "id": "c954f07f-3db1-4ef4-8832-d8b98f2536f1",
   "metadata": {},
   "outputs": [],
   "source": [
    "#now find out the value of chi-square-test , we found it from the chi-square-table\n",
    "chi_t = 11.07"
   ]
  },
  {
   "cell_type": "code",
   "execution_count": 11,
   "id": "a922b409-f771-4848-b9c0-107260c31dc1",
   "metadata": {},
   "outputs": [],
   "source": [
    "observation = np.array([22,17,20,26,22,13])\n",
    "expectation = np.array([20,20,20,20,20,20])"
   ]
  },
  {
   "cell_type": "code",
   "execution_count": 12,
   "id": "2abf00eb-b9d9-4cde-99aa-3ef46d309dc3",
   "metadata": {},
   "outputs": [
    {
     "data": {
      "text/plain": [
       "np.float64(5.1000000000000005)"
      ]
     },
     "execution_count": 12,
     "metadata": {},
     "output_type": "execute_result"
    }
   ],
   "source": [
    "#chi-square-calculated-value:\n",
    "chi_square = np.sum(np.square(observation - expectation)/expectation)\n",
    "chi_square"
   ]
  },
  {
   "cell_type": "code",
   "execution_count": 13,
   "id": "0d9aae4f-7c32-4293-a9f0-5d50935cec5f",
   "metadata": {},
   "outputs": [
    {
     "name": "stdout",
     "output_type": "stream",
     "text": [
      "dice is fair and the hypothesis is incorrect\n"
     ]
    }
   ],
   "source": [
    "if chi_t < chi_square:\n",
    "    print(\"dice is unfair and the hypothesis is correct\")\n",
    "else:\n",
    "    print(\"dice is fair and the hypothesis is incorrect\")"
   ]
  },
  {
   "cell_type": "code",
   "execution_count": null,
   "id": "894a5bbf-ee2f-440b-a8c8-31611496c4ef",
   "metadata": {},
   "outputs": [],
   "source": []
  },
  {
   "cell_type": "code",
   "execution_count": null,
   "id": "fa8f412f-e40f-4fa8-beaf-0021d9f09a34",
   "metadata": {},
   "outputs": [],
   "source": []
  }
 ],
 "metadata": {
  "kernelspec": {
   "display_name": "Python 3 (ipykernel)",
   "language": "python",
   "name": "python3"
  },
  "language_info": {
   "codemirror_mode": {
    "name": "ipython",
    "version": 3
   },
   "file_extension": ".py",
   "mimetype": "text/x-python",
   "name": "python",
   "nbconvert_exporter": "python",
   "pygments_lexer": "ipython3",
   "version": "3.12.4"
  }
 },
 "nbformat": 4,
 "nbformat_minor": 5
}
