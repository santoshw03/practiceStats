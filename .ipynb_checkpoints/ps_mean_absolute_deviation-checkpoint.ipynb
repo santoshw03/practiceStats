{
 "cells": [
  {
   "cell_type": "code",
   "execution_count": 1,
   "id": "ce6e1ef7-769e-4931-8374-e9954258a866",
   "metadata": {},
   "outputs": [],
   "source": [
    "import numpy as np\n",
    "import pandas as pd \n",
    "import matplotlib.pyplot as plt\n",
    "import seaborn as sns"
   ]
  },
  {
   "cell_type": "code",
   "execution_count": 3,
   "id": "e4bdbf94-253d-4c04-8315-59ed236ec600",
   "metadata": {},
   "outputs": [],
   "source": [
    "# mean absolute deviation is used to know how much the data is spread from its mean \n",
    "# less the data is spread more important it is\n",
    "# MAD = (sumof(|xi - meanof(xi)|))/n"
   ]
  },
  {
   "cell_type": "code",
   "execution_count": 4,
   "id": "e5b95b87-b044-44ab-9e9b-6f6977f62926",
   "metadata": {},
   "outputs": [],
   "source": [
    "a = np.array([75,63,73,68,72,67])\n",
    "b = np.array([90,47,43,96,93,51])"
   ]
  },
  {
   "cell_type": "code",
   "execution_count": 5,
   "id": "324c6c9c-6bd9-40e5-8cdb-48aed7604d56",
   "metadata": {},
   "outputs": [],
   "source": [
    "no = np.array([1,2,3,4,5,6]) #created array for the y-axis"
   ]
  },
  {
   "cell_type": "code",
   "execution_count": 7,
   "id": "e87b18e5-56e6-4305-99d8-398f9ebfc87a",
   "metadata": {},
   "outputs": [
    {
     "data": {
      "image/png": "[encoded data removed]",
      "text/plain": [
       "<Figure size 1000x300 with 1 Axes>"
      ]
     },
     "metadata": {},
     "output_type": "display_data"
    }
   ],
   "source": [
    "plt.figure(figsize=(10,3)) # to stretch the graph\n",
    "plt.scatter(a,no)\n",
    "plt.show()"
   ]
  },
  {
   "cell_type": "code",
   "execution_count": null,
   "id": "8ccd9da8-a5aa-410b-80bc-6bd944b1a256",
   "metadata": {},
   "outputs": [],
   "source": []
  }
 ],
 "metadata": {
  "kernelspec": {
   "display_name": "Python 3 (ipykernel)",
   "language": "python",
   "name": "python3"
  },
  "language_info": {
   "codemirror_mode": {
    "name": "ipython",
    "version": 3
   },
   "file_extension": ".py",
   "mimetype": "text/x-python",
   "name": "python",
   "nbconvert_exporter": "python",
   "pygments_lexer": "ipython3",
   "version": "3.12.4"
  }
 },
 "nbformat": 4,
 "nbformat_minor": 5
}
