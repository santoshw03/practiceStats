{
 "cells": [
  {
   "cell_type": "code",
   "execution_count": 1,
   "id": "e0049799-7710-471f-a533-5f356cbb39cc",
   "metadata": {},
   "outputs": [],
   "source": [
    "import numpy as np\n",
    "import pandas as pd"
   ]
  },
  {
   "cell_type": "code",
   "execution_count": 2,
   "id": "27710b68-2e01-435f-b2c3-694cd907fe2f",
   "metadata": {},
   "outputs": [],
   "source": [
    "a = np.array([75,63,73,68,72,67])\n",
    "b = np.array([90,47,43,96,93,51])"
   ]
  },
  {
   "cell_type": "code",
   "execution_count": 5,
   "id": "1e9a4ea1-cae4-4856-8d2e-e17e13798aba",
   "metadata": {},
   "outputs": [],
   "source": [
    "#standard deviation is a measure of the amount of dispertion or variation of a set of values\n",
    "#less the standard deviation more reliable is the data\n",
    "#standart deviation = squaretoot((sum((xi-mean)^2)/N))\n",
    "#variance is just the square of standard deviation"
   ]
  },
  {
   "cell_type": "code",
   "execution_count": 6,
   "id": "6119d7ee-f005-4ea1-8e1a-dd121bcabd09",
   "metadata": {},
   "outputs": [
    {
     "data": {
      "text/plain": [
       "(np.float64(4.068851871911234), np.float64(23.18045153428495))"
      ]
     },
     "execution_count": 6,
     "metadata": {},
     "output_type": "execute_result"
    }
   ],
   "source": [
    "#standard deviation of a and b\n",
    "np.std(a),np.std(b)"
   ]
  },
  {
   "cell_type": "code",
   "execution_count": 7,
   "id": "d8146475-5fe6-44dd-b431-b2e940993b7f",
   "metadata": {},
   "outputs": [],
   "source": [
    "# we can see std of a < std of b ,, hence a is more reliable"
   ]
  },
  {
   "cell_type": "code",
   "execution_count": 8,
   "id": "98256df7-30ab-4519-8f74-b47a9e7db4bc",
   "metadata": {},
   "outputs": [
    {
     "data": {
      "text/plain": [
       "(np.float64(16.555555555555557), np.float64(537.3333333333334))"
      ]
     },
     "execution_count": 8,
     "metadata": {},
     "output_type": "execute_result"
    }
   ],
   "source": [
    "#variance of a and b\n",
    "np.var(a),np.var(b)"
   ]
  },
  {
   "cell_type": "code",
   "execution_count": 9,
   "id": "1f7ff302-cf42-4476-b040-80036c13681d",
   "metadata": {},
   "outputs": [],
   "source": [
    "# we can see var of a < var of b ,, hence a is more reliable"
   ]
  },
  {
   "cell_type": "code",
   "execution_count": 12,
   "id": "b04e1ba0-dedd-48ed-bf13-ecbae685bdd0",
   "metadata": {},
   "outputs": [],
   "source": [
    "#lets perform on a dataset\n",
    "dataset = pd.read_csv(\"titanic.csv\")"
   ]
  },
  {
   "cell_type": "code",
   "execution_count": 13,
   "id": "4d8e3891-6d7c-4fb9-93ea-ef95fa4159cc",
   "metadata": {},
   "outputs": [
    {
     "data": {
      "text/html": [
       "<div>\n",
       "<style scoped>\n",
       "    .dataframe tbody tr th:only-of-type {\n",
       "        vertical-align: middle;\n",
       "    }\n",
       "\n",
       "    .dataframe tbody tr th {\n",
       "        vertical-align: top;\n",
       "    }\n",
       "\n",
       "    .dataframe thead th {\n",
       "        text-align: right;\n",
       "    }\n",
       "</style>\n",
       "<table border=\"1\" class=\"dataframe\">\n",
       "  <thead>\n",
       "    <tr style=\"text-align: right;\">\n",
       "      <th></th>\n",
       "      <th>Survived</th>\n",
       "      <th>Pclass</th>\n",
       "      <th>Name</th>\n",
       "      <th>Sex</th>\n",
       "      <th>Age</th>\n",
       "      <th>Siblings/Spouses Aboard</th>\n",
       "      <th>Parents/Children Aboard</th>\n",
       "      <th>Fare</th>\n",
       "    </tr>\n",
       "  </thead>\n",
       "  <tbody>\n",
       "    <tr>\n",
       "      <th>0</th>\n",
       "      <td>0</td>\n",
       "      <td>3</td>\n",
       "      <td>Mr. Owen Harris Braund</td>\n",
       "      <td>male</td>\n",
       "      <td>22.0</td>\n",
       "      <td>1</td>\n",
       "      <td>0</td>\n",
       "      <td>7.2500</td>\n",
       "    </tr>\n",
       "    <tr>\n",
       "      <th>1</th>\n",
       "      <td>1</td>\n",
       "      <td>1</td>\n",
       "      <td>Mrs. John Bradley (Florence Briggs Thayer) Cum...</td>\n",
       "      <td>female</td>\n",
       "      <td>38.0</td>\n",
       "      <td>1</td>\n",
       "      <td>0</td>\n",
       "      <td>71.2833</td>\n",
       "    </tr>\n",
       "    <tr>\n",
       "      <th>2</th>\n",
       "      <td>1</td>\n",
       "      <td>3</td>\n",
       "      <td>Miss. Laina Heikkinen</td>\n",
       "      <td>female</td>\n",
       "      <td>26.0</td>\n",
       "      <td>0</td>\n",
       "      <td>0</td>\n",
       "      <td>7.9250</td>\n",
       "    </tr>\n",
       "    <tr>\n",
       "      <th>3</th>\n",
       "      <td>1</td>\n",
       "      <td>1</td>\n",
       "      <td>Mrs. Jacques Heath (Lily May Peel) Futrelle</td>\n",
       "      <td>female</td>\n",
       "      <td>35.0</td>\n",
       "      <td>1</td>\n",
       "      <td>0</td>\n",
       "      <td>53.1000</td>\n",
       "    </tr>\n",
       "    <tr>\n",
       "      <th>4</th>\n",
       "      <td>0</td>\n",
       "      <td>3</td>\n",
       "      <td>Mr. William Henry Allen</td>\n",
       "      <td>male</td>\n",
       "      <td>35.0</td>\n",
       "      <td>0</td>\n",
       "      <td>0</td>\n",
       "      <td>8.0500</td>\n",
       "    </tr>\n",
       "  </tbody>\n",
       "</table>\n",
       "</div>"
      ],
      "text/plain": [
       "   Survived  Pclass                                               Name  \\\n",
       "0         0       3                             Mr. Owen Harris Braund   \n",
       "1         1       1  Mrs. John Bradley (Florence Briggs Thayer) Cum...   \n",
       "2         1       3                              Miss. Laina Heikkinen   \n",
       "3         1       1        Mrs. Jacques Heath (Lily May Peel) Futrelle   \n",
       "4         0       3                            Mr. William Henry Allen   \n",
       "\n",
       "      Sex   Age  Siblings/Spouses Aboard  Parents/Children Aboard     Fare  \n",
       "0    male  22.0                        1                        0   7.2500  \n",
       "1  female  38.0                        1                        0  71.2833  \n",
       "2  female  26.0                        0                        0   7.9250  \n",
       "3  female  35.0                        1                        0  53.1000  \n",
       "4    male  35.0                        0                        0   8.0500  "
      ]
     },
     "execution_count": 13,
     "metadata": {},
     "output_type": "execute_result"
    }
   ],
   "source": [
    "dataset.head(5)"
   ]
  },
  {
   "cell_type": "code",
   "execution_count": 18,
   "id": "f6f3612e-67c4-486d-8ff5-c7d178cb57fd",
   "metadata": {},
   "outputs": [
    {
     "data": {
      "text/plain": [
       "(np.float64(14.12190840546256), np.float64(199.42829701227413))"
      ]
     },
     "execution_count": 18,
     "metadata": {},
     "output_type": "execute_result"
    }
   ],
   "source": [
    "dataset[\"Age\"].std(),dataset[\"Age\"].var()"
   ]
  },
  {
   "cell_type": "code",
   "execution_count": 19,
   "id": "d2d30b52-e643-4652-b1cd-a8d0ca04d3ae",
   "metadata": {},
   "outputs": [],
   "source": [
    "#as the value is so big(greater than 10 std , greater than 100 var) we can say that the data in age column is so much spread"
   ]
  },
  {
   "cell_type": "code",
   "execution_count": 20,
   "id": "0c78a200-76cb-4f02-ab61-f1abc8d20b1a",
   "metadata": {},
   "outputs": [
    {
     "data": {
      "text/plain": [
       "(np.float64(49.78204040017391), np.float64(2478.2515464045473))"
      ]
     },
     "execution_count": 20,
     "metadata": {},
     "output_type": "execute_result"
    }
   ],
   "source": [
    "dataset[\"Fare\"].std(),dataset[\"Fare\"].var()"
   ]
  },
  {
   "cell_type": "code",
   "execution_count": null,
   "id": "e7e226df-2ee3-47d0-a538-43807af036fd",
   "metadata": {},
   "outputs": [],
   "source": []
  }
 ],
 "metadata": {
  "kernelspec": {
   "display_name": "Python 3 (ipykernel)",
   "language": "python",
   "name": "python3"
  },
  "language_info": {
   "codemirror_mode": {
    "name": "ipython",
    "version": 3
   },
   "file_extension": ".py",
   "mimetype": "text/x-python",
   "name": "python",
   "nbconvert_exporter": "python",
   "pygments_lexer": "ipython3",
   "version": "3.12.4"
  }
 },
 "nbformat": 4,
 "nbformat_minor": 5
}
