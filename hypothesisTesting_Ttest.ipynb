{
 "cells": [
  {
   "cell_type": "code",
   "execution_count": 56,
   "id": "3d93e5df-38ef-4cb7-9f85-0add62d9990b",
   "metadata": {},
   "outputs": [],
   "source": [
    "# we use the T test if we have folloiwng conditions:\n",
    "# 1)mean of population\n",
    "# 2)standard devaition of sample\n",
    "# 3)sample size less than 30"
   ]
  },
  {
   "cell_type": "code",
   "execution_count": 57,
   "id": "4592724b-58c5-4d0e-b244-43c1e2196479",
   "metadata": {},
   "outputs": [],
   "source": [
    "# tc (t-calculated value to compare) can be found by :\n",
    "# tc = (x - u)/(std/root(n)) , where x = mean of sample , u = mean of population , std = standard deviation of sample ,n = smaple size"
   ]
  },
  {
   "cell_type": "code",
   "execution_count": 58,
   "id": "e7a57b76-9c60-4cfb-acd6-85f8934999b2",
   "metadata": {},
   "outputs": [],
   "source": [
    "# problem 1:\n",
    "# Q. A manufacturer claims that the average weight of a bag of potato chips is 150g.\n",
    "#    A sample of 25 bags is taken , and average weight is found to be 148g , with a std of 5g\n",
    "#    test the manufacturers claim using a one tailed t-test with a significance level of 0.05\n"
   ]
  },
  {
   "cell_type": "code",
   "execution_count": 59,
   "id": "cd3bcff0-3595-4306-abcb-a6c9511156ec",
   "metadata": {},
   "outputs": [],
   "source": [
    "#therefore Ho = 150 and Ha <150\n",
    "# hence we use left-tail test"
   ]
  },
  {
   "cell_type": "code",
   "execution_count": 60,
   "id": "783d75e4-0725-4110-816b-c226fe78aaec",
   "metadata": {},
   "outputs": [],
   "source": [
    "import scipy.stats as st\n",
    "import numpy as np"
   ]
  },
  {
   "cell_type": "code",
   "execution_count": 61,
   "id": "2d8099ca-ba68-497d-b5b8-cc55d58e73b3",
   "metadata": {},
   "outputs": [
    {
     "data": {
      "text/plain": [
       "np.float64(-1.7108820799094282)"
      ]
     },
     "execution_count": 61,
     "metadata": {},
     "output_type": "execute_result"
    }
   ],
   "source": [
    "#tt(t-test value )will be:\n",
    "tt = st.t.ppf(0.05,24) #for alpha  = 0.05 and df=24 ,(df = number of sample-1)\n",
    "tt"
   ]
  },
  {
   "cell_type": "code",
   "execution_count": 62,
   "id": "19359422-2965-4225-a16f-03f8f1eebfee",
   "metadata": {},
   "outputs": [],
   "source": [
    "x = 148\n",
    "u = 150\n",
    "std = 5\n",
    "n = 25"
   ]
  },
  {
   "cell_type": "code",
   "execution_count": 63,
   "id": "998a1b0f-4cad-41b5-b70d-7c0795edd13e",
   "metadata": {},
   "outputs": [
    {
     "data": {
      "text/plain": [
       "np.float64(-2.0)"
      ]
     },
     "execution_count": 63,
     "metadata": {},
     "output_type": "execute_result"
    }
   ],
   "source": [
    "tc = (x - u)/(std/np.sqrt(n))\n",
    "tc"
   ]
  },
  {
   "cell_type": "code",
   "execution_count": 64,
   "id": "204158ca-311a-4c7b-af7e-76f3936dfc0c",
   "metadata": {},
   "outputs": [
    {
     "name": "stdout",
     "output_type": "stream",
     "text": [
      "hypothesis is incorrect\n"
     ]
    }
   ],
   "source": [
    "if tt < tc :\n",
    "    print(\"hypothesis is correct\")\n",
    "else:\n",
    "    print(\"hypothesis is incorrect\")"
   ]
  },
  {
   "cell_type": "code",
   "execution_count": 65,
   "id": "4d7ba450-09fd-4fdb-ab0d-c3f805f7e8a1",
   "metadata": {},
   "outputs": [],
   "source": [
    "#hence the manufacturers claim is false"
   ]
  },
  {
   "cell_type": "code",
   "execution_count": null,
   "id": "4ebfd2ef-8216-48e0-9e3e-867bceb348b2",
   "metadata": {},
   "outputs": [],
   "source": []
  },
  {
   "cell_type": "code",
   "execution_count": 66,
   "id": "79a9c682-5609-4a2b-9619-1e8e58f25f09",
   "metadata": {},
   "outputs": [],
   "source": [
    "#A company wants to test whether there is a difference in productivity between two teams.\n",
    "# They randomly select 20 employees from each team and record their productivity scores.\n",
    "# The mean productivity score for Team A is 80 with a standard deviation of 5,\n",
    "# while the mean productivity score for Team B is 75 with a standard deviation of 6.\n",
    "# Test at a 5% level of significance whether there is a difference productivity between the two teams."
   ]
  },
  {
   "cell_type": "code",
   "execution_count": 67,
   "id": "3447142a-f3d2-4a5c-8b03-d9d1cb7fcc03",
   "metadata": {},
   "outputs": [],
   "source": [
    "# HO => Pa - Pb = 0\n",
    "# Ha => Pa - Pb =! 0\n",
    "#we will use two tailed test here"
   ]
  },
  {
   "cell_type": "code",
   "execution_count": 68,
   "id": "38bb966a-3a03-40a0-9151-58de6359c9e6",
   "metadata": {},
   "outputs": [
    {
     "data": {
      "text/plain": [
       "np.float64(2.024394163911969)"
      ]
     },
     "execution_count": 68,
     "metadata": {},
     "output_type": "execute_result"
    }
   ],
   "source": [
    "#t_test(t-test value )will be:\n",
    "t_test = st.t.ppf(1-0.025,38) #for alpha  = 0.025(as its a two tailed test) and df=38 ,(df = (number of sample teamA-1)+(number of sample teamB-1)) \n",
    "t_test"
   ]
  },
  {
   "cell_type": "code",
   "execution_count": 69,
   "id": "ea2b3cbb-cd3e-4bde-9327-037898d36bdf",
   "metadata": {},
   "outputs": [],
   "source": [
    "xa = 80\n",
    "xb = 75\n",
    "std_a = 5\n",
    "std_b = 6\n",
    "n = 20"
   ]
  },
  {
   "cell_type": "code",
   "execution_count": 70,
   "id": "7c7057d7-4781-4c66-972b-6973db4abf4d",
   "metadata": {},
   "outputs": [
    {
     "data": {
      "text/plain": [
       "np.float64(2.862991671569341)"
      ]
     },
     "execution_count": 70,
     "metadata": {},
     "output_type": "execute_result"
    }
   ],
   "source": [
    "t_cal = (xa-xb)/(np.sqrt(((std_a*std_a)/n)+((std_b*std_b)/n)))\n",
    "t_cal"
   ]
  },
  {
   "cell_type": "code",
   "execution_count": 71,
   "id": "8c783809-9a01-4c9c-82ca-ae8056ab3dd7",
   "metadata": {},
   "outputs": [
    {
     "name": "stdout",
     "output_type": "stream",
     "text": [
      "hypothesis is correct\n"
     ]
    }
   ],
   "source": [
    "if t_test < t_cal :\n",
    "    print(\"hypothesis is correct\")\n",
    "else:\n",
    "    print(\"hypothesis is incorrect\")"
   ]
  },
  {
   "cell_type": "code",
   "execution_count": 72,
   "id": "01696b1e-1300-4ed4-9574-4bfcc7385862",
   "metadata": {},
   "outputs": [],
   "source": [
    "#hence there is difference in the productivity of two teams"
   ]
  },
  {
   "cell_type": "code",
   "execution_count": null,
   "id": "272add99-eccd-4c78-b895-b9c316b1f4c1",
   "metadata": {},
   "outputs": [],
   "source": []
  },
  {
   "cell_type": "code",
   "execution_count": 73,
   "id": "2e190aab-1310-4726-8378-5c990b0e400d",
   "metadata": {},
   "outputs": [],
   "source": [
    "#A company wants to test whether a new training program improves the typing speed of its employees.\n",
    "#The typing speed of 20 employees was recorded before and after the training program.\n",
    "#The data is given below. Test at a 5% level of significance whether the training program has an effect on the typing speed of the employees"
   ]
  },
  {
   "cell_type": "code",
   "execution_count": 74,
   "id": "4b6d41d2-000e-405d-a5ac-f8a63a3055c0",
   "metadata": {},
   "outputs": [],
   "source": [
    "before=np.array([50, 60, 45, 65, 55, 70, 40, 75, 80, 65, 70, 60, 50, 55, 45, 75, 60, 50, 65,70])\n",
    "after = np.array([60, 70, 55, 75, 65, 80, 50, 85, 90, 70, 75, 65, 55, 60, 50, 80, 65, 55,70,75])"
   ]
  },
  {
   "cell_type": "code",
   "execution_count": 75,
   "id": "a85b7d59-7f2b-417f-90f7-984e97aa04ae",
   "metadata": {},
   "outputs": [
    {
     "data": {
      "text/plain": [
       "np.float64(2.093024054408263)"
      ]
     },
     "execution_count": 75,
     "metadata": {},
     "output_type": "execute_result"
    }
   ],
   "source": [
    "#t-test value here as test:\n",
    "test = st.t.ppf(1-0.025,19) #for alpha = 0.05 but two tailed , df = sample-1=19\n",
    "test"
   ]
  },
  {
   "cell_type": "code",
   "execution_count": 76,
   "id": "599d27f5-9e15-4add-99f8-f9f073f9c89a",
   "metadata": {},
   "outputs": [
    {
     "data": {
      "text/plain": [
       "(np.float64(60.25), np.float64(67.5))"
      ]
     },
     "execution_count": 76,
     "metadata": {},
     "output_type": "execute_result"
    }
   ],
   "source": [
    "mean_before = np.mean(before)\n",
    "mean_after = np.mean(after)\n",
    "mean_before , mean_after"
   ]
  },
  {
   "cell_type": "code",
   "execution_count": 77,
   "id": "4185fb3c-c5a1-4521-aab6-54d09decaf21",
   "metadata": {},
   "outputs": [
    {
     "data": {
      "text/plain": [
       "(np.float64(11.236102527122116), np.float64(11.008519428151999))"
      ]
     },
     "execution_count": 77,
     "metadata": {},
     "output_type": "execute_result"
    }
   ],
   "source": [
    "std_after = np.std(after)\n",
    "std_before = np.std(before)\n",
    "std_after, std_before"
   ]
  },
  {
   "cell_type": "code",
   "execution_count": 78,
   "id": "3f519591-a70a-4164-ba25-d9b497196d96",
   "metadata": {},
   "outputs": [
    {
     "data": {
      "text/plain": [
       "np.float64(2.061200527128206)"
      ]
     },
     "execution_count": 78,
     "metadata": {},
     "output_type": "execute_result"
    }
   ],
   "source": [
    "#now t-calculated value is:\n",
    "t_calculated = (mean_after - mean_before)/(np.sqrt(((std_after*std_after)/len(after))+((std_before*std_before)/len(before))))\n",
    "t_calculated"
   ]
  },
  {
   "cell_type": "code",
   "execution_count": 79,
   "id": "5c61977b-5b07-4dea-9908-a0d6e5a4714c",
   "metadata": {},
   "outputs": [
    {
     "name": "stdout",
     "output_type": "stream",
     "text": [
      "hypothesis is incorrect\n"
     ]
    }
   ],
   "source": [
    "if test < t_calculated :\n",
    "    print(\"hypothesis is correct\")\n",
    "else:\n",
    "    print(\"hypothesis is incorrect\")"
   ]
  },
  {
   "cell_type": "code",
   "execution_count": 51,
   "id": "dd30cdb8-75b7-4057-941a-7070f8636754",
   "metadata": {},
   "outputs": [],
   "source": [
    "#hence there is no change in the typing speed of employees\n"
   ]
  },
  {
   "cell_type": "code",
   "execution_count": null,
   "id": "d6690a7d-eab9-4f0a-a1a2-56606fb597c3",
   "metadata": {},
   "outputs": [],
   "source": [
    " "
   ]
  }
 ],
 "metadata": {
  "kernelspec": {
   "display_name": "Python 3 (ipykernel)",
   "language": "python",
   "name": "python3"
  },
  "language_info": {
   "codemirror_mode": {
    "name": "ipython",
    "version": 3
   },
   "file_extension": ".py",
   "mimetype": "text/x-python",
   "name": "python",
   "nbconvert_exporter": "python",
   "pygments_lexer": "ipython3",
   "version": "3.12.4"
  }
 },
 "nbformat": 4,
 "nbformat_minor": 5
}
